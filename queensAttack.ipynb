{
 "cells": [
  {
   "cell_type": "markdown",
   "metadata": {},
   "source": [
    "## Main Function"
   ]
  },
  {
   "cell_type": "code",
   "execution_count": 2,
   "metadata": {},
   "outputs": [],
   "source": [
    "def queensAttack(n, k, r_q, c_q, obstacles):\n",
    "    # Initialize all of the distances for the queen without obstacles\n",
    "    horPos = n - c_q # distance to the right of queen\n",
    "    horNeg = c_q - 1 # distance to the left of queen\n",
    "    verPos = n - r_q # distance above the queen\n",
    "    verNeg = r_q - 1 # distance below the queen\n",
    "    # Diagonal distance is the shortest distance between horizontal or vertical\n",
    "    diag45 = horPos if (horPos<verPos) else verPos\n",
    "    diag135 = horPos if (horPos<verNeg) else verNeg\n",
    "    diag225 = horNeg if (horNeg<verNeg) else verNeg\n",
    "    diag315 = horNeg if (horNeg<verPos) else verPos\n",
    "    \n",
    "    # Iterate obstacle and compare it with each value\n",
    "    for obs in obstacles:\n",
    "        \n",
    "        # Conditions\n",
    "        xAxis = True if(obs[1] > c_q) else False # True if obs on the right of the queen\n",
    "        yAxis = True if(obs[0] > r_q) else False # True if obs above the queen\n",
    "        # The obs is diagonalically aligned if the diff between x axis == diff between y axis\n",
    "        diag_check = True if (abs(r_q - obs[0])==abs(c_q - obs[1])) else False\n",
    "        \n",
    "        # If the obs on the same row as the queen\n",
    "        if(r_q == obs[0]):\n",
    "            # Calculate the horizontal difference\n",
    "            col_dif = abs(obs[1] - c_q)-1\n",
    "            # Change horizontal position if the value is smaller than previous value\n",
    "            if(xAxis and horPos>col_dif):\n",
    "                horPos = col_dif\n",
    "            elif(horNeg>col_dif):\n",
    "                horNeg = col_dif\n",
    "        \n",
    "        # Do the same if obs on the sam column as the queen\n",
    "        if(c_q == obs[1]):\n",
    "            row_dif = abs(obs[0] - r_q)-1\n",
    "            if(yAxis and verPos>row_dif):\n",
    "                verPos = row_dif\n",
    "            elif(verNeg>row_dif):\n",
    "                verNeg = row_dif\n",
    "        \n",
    "        # If the obs diagonalically aligned\n",
    "        if(diag_check):\n",
    "            # Calculate the difference\n",
    "            diag_dif = abs(r_q - obs[0]) - 1\n",
    "            # Change position value if the diff is smaller than previous value\n",
    "            if(xAxis and yAxis and diag_dif < diag45):\n",
    "                diag45 = diag_dif\n",
    "            elif(xAxis and not yAxis and diag_dif < diag135):\n",
    "                diag135 = diag_dif\n",
    "            elif(not xAxis and not yAxis and diag_dif < diag225):\n",
    "                diag225 = diag_dif\n",
    "            elif(not xAxis and yAxis and diag_dif < diag315):\n",
    "                diag315 = diag_dif\n",
    "                \n",
    "    # Return the sum of all positions    \n",
    "    return horPos + horNeg + verPos + verNeg + diag45 + diag135 + diag225 + diag315 "
   ]
  },
  {
   "cell_type": "markdown",
   "metadata": {},
   "source": [
    "## Test Case 1"
   ]
  },
  {
   "cell_type": "code",
   "execution_count": 3,
   "metadata": {},
   "outputs": [
    {
     "name": "stdout",
     "output_type": "stream",
     "text": [
      "9\n"
     ]
    }
   ],
   "source": [
    "obs = []\n",
    "print(queensAttack(4, 0, 4, 4, obs))"
   ]
  },
  {
   "cell_type": "markdown",
   "metadata": {},
   "source": [
    "## Test Case 2"
   ]
  },
  {
   "cell_type": "code",
   "execution_count": 4,
   "metadata": {},
   "outputs": [
    {
     "name": "stdout",
     "output_type": "stream",
     "text": [
      "10\n"
     ]
    }
   ],
   "source": [
    "obs = [[5,5], [4,2], [2,3]]\n",
    "print(queensAttack(5, 3, 4, 3, obs))"
   ]
  },
  {
   "cell_type": "markdown",
   "metadata": {},
   "source": [
    "## Test Case 3"
   ]
  },
  {
   "cell_type": "code",
   "execution_count": 5,
   "metadata": {},
   "outputs": [
    {
     "name": "stdout",
     "output_type": "stream",
     "text": [
      "0\n"
     ]
    }
   ],
   "source": [
    "obs = []\n",
    "print(queensAttack(1, 0, 1, 1, obs))"
   ]
  },
  {
   "cell_type": "markdown",
   "metadata": {},
   "source": [
    "## Test Case 4"
   ]
  },
  {
   "cell_type": "code",
   "execution_count": 6,
   "metadata": {},
   "outputs": [
    {
     "name": "stdout",
     "output_type": "stream",
     "text": [
      "11\n"
     ]
    }
   ],
   "source": [
    "obs = [[5,5], [4,2], [2,3]]\n",
    "print(queensAttack(5, 3, 1, 1, obs))"
   ]
  }
 ],
 "metadata": {
  "kernelspec": {
   "display_name": "Python 3",
   "language": "python",
   "name": "python3"
  },
  "language_info": {
   "codemirror_mode": {
    "name": "ipython",
    "version": 3
   },
   "file_extension": ".py",
   "mimetype": "text/x-python",
   "name": "python",
   "nbconvert_exporter": "python",
   "pygments_lexer": "ipython3",
   "version": "3.6.5"
  }
 },
 "nbformat": 4,
 "nbformat_minor": 2
}
